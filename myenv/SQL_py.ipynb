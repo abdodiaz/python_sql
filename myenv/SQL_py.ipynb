{
 "cells": [
  {
   "cell_type": "markdown",
   "id": "642a7966",
   "metadata": {},
   "source": [
    "Import "
   ]
  },
  {
   "cell_type": "code",
   "execution_count": 8,
   "id": "6c194d20",
   "metadata": {},
   "outputs": [],
   "source": [
    "from sqlalchemy import create_engine, MetaData, Table, Column, Integer, String, Float, DateTime, ForeignKey,insert,select\n",
    "from datetime import datetime\n",
    "from dotenv import load_dotenv\n",
    "import os"
   ]
  },
  {
   "cell_type": "markdown",
   "id": "65883ba6",
   "metadata": {},
   "source": [
    "LOAD .env"
   ]
  },
  {
   "cell_type": "code",
   "execution_count": 9,
   "id": "1500a605",
   "metadata": {},
   "outputs": [],
   "source": [
    "load_dotenv()\n",
    "# load info from .env\n",
    "DB_HOST = os.getenv(\"DB_HOST\")\n",
    "DB_PORT = os.getenv(\"DB_PORT\")\n",
    "DB_NAME = os.getenv(\"DB_NAME\")\n",
    "DB_USER = os.getenv(\"DB_USER\")\n",
    "DB_PASSWORD = os.getenv(\"DB_PASSWORD\")"
   ]
  },
  {
   "cell_type": "markdown",
   "id": "9205aacb",
   "metadata": {},
   "source": [
    "CREATION DE CONNECTION AVEC DATA BASE"
   ]
  },
  {
   "cell_type": "code",
   "execution_count": 10,
   "id": "49df9e9d",
   "metadata": {},
   "outputs": [],
   "source": [
    "# url for connection\n",
    "DATABASE_URL = f\"postgresql+psycopg2://{DB_USER}:{DB_PASSWORD}@{DB_HOST}:{DB_PORT}/{DB_NAME}\"\n",
    "# create connection with database\n",
    "engine = create_engine(DATABASE_URL, echo=True)"
   ]
  },
  {
   "cell_type": "markdown",
   "id": "57471f18",
   "metadata": {},
   "source": [
    "creation des tables"
   ]
  },
  {
   "cell_type": "code",
   "execution_count": 11,
   "id": "7352a682",
   "metadata": {},
   "outputs": [
    {
     "name": "stdout",
     "output_type": "stream",
     "text": [
      "2025-07-09 14:26:18,436 INFO sqlalchemy.engine.Engine select pg_catalog.version()\n",
      "2025-07-09 14:26:18,438 INFO sqlalchemy.engine.Engine [raw sql] {}\n",
      "2025-07-09 14:26:18,441 INFO sqlalchemy.engine.Engine select current_schema()\n",
      "2025-07-09 14:26:18,442 INFO sqlalchemy.engine.Engine [raw sql] {}\n",
      "2025-07-09 14:26:18,444 INFO sqlalchemy.engine.Engine show standard_conforming_strings\n",
      "2025-07-09 14:26:18,445 INFO sqlalchemy.engine.Engine [raw sql] {}\n",
      "2025-07-09 14:26:18,446 INFO sqlalchemy.engine.Engine BEGIN (implicit)\n",
      "2025-07-09 14:26:18,453 INFO sqlalchemy.engine.Engine SELECT pg_catalog.pg_class.relname \n",
      "FROM pg_catalog.pg_class JOIN pg_catalog.pg_namespace ON pg_catalog.pg_namespace.oid = pg_catalog.pg_class.relnamespace \n",
      "WHERE pg_catalog.pg_class.relname = %(table_name)s AND pg_catalog.pg_class.relkind = ANY (ARRAY[%(param_1)s, %(param_2)s, %(param_3)s, %(param_4)s, %(param_5)s]) AND pg_catalog.pg_table_is_visible(pg_catalog.pg_class.oid) AND pg_catalog.pg_namespace.nspname != %(nspname_1)s\n",
      "2025-07-09 14:26:18,455 INFO sqlalchemy.engine.Engine [generated in 0.00190s] {'table_name': 'clients', 'param_1': 'r', 'param_2': 'p', 'param_3': 'f', 'param_4': 'v', 'param_5': 'm', 'nspname_1': 'pg_catalog'}\n",
      "2025-07-09 14:26:18,462 INFO sqlalchemy.engine.Engine SELECT pg_catalog.pg_class.relname \n",
      "FROM pg_catalog.pg_class JOIN pg_catalog.pg_namespace ON pg_catalog.pg_namespace.oid = pg_catalog.pg_class.relnamespace \n",
      "WHERE pg_catalog.pg_class.relname = %(table_name)s AND pg_catalog.pg_class.relkind = ANY (ARRAY[%(param_1)s, %(param_2)s, %(param_3)s, %(param_4)s, %(param_5)s]) AND pg_catalog.pg_table_is_visible(pg_catalog.pg_class.oid) AND pg_catalog.pg_namespace.nspname != %(nspname_1)s\n",
      "2025-07-09 14:26:18,462 INFO sqlalchemy.engine.Engine [cached since 0.008852s ago] {'table_name': 'destinations', 'param_1': 'r', 'param_2': 'p', 'param_3': 'f', 'param_4': 'v', 'param_5': 'm', 'nspname_1': 'pg_catalog'}\n",
      "2025-07-09 14:26:18,463 INFO sqlalchemy.engine.Engine SELECT pg_catalog.pg_class.relname \n",
      "FROM pg_catalog.pg_class JOIN pg_catalog.pg_namespace ON pg_catalog.pg_namespace.oid = pg_catalog.pg_class.relnamespace \n",
      "WHERE pg_catalog.pg_class.relname = %(table_name)s AND pg_catalog.pg_class.relkind = ANY (ARRAY[%(param_1)s, %(param_2)s, %(param_3)s, %(param_4)s, %(param_5)s]) AND pg_catalog.pg_table_is_visible(pg_catalog.pg_class.oid) AND pg_catalog.pg_namespace.nspname != %(nspname_1)s\n",
      "2025-07-09 14:26:18,464 INFO sqlalchemy.engine.Engine [cached since 0.01126s ago] {'table_name': 'bookings', 'param_1': 'r', 'param_2': 'p', 'param_3': 'f', 'param_4': 'v', 'param_5': 'm', 'nspname_1': 'pg_catalog'}\n",
      "2025-07-09 14:26:18,465 INFO sqlalchemy.engine.Engine SELECT pg_catalog.pg_class.relname \n",
      "FROM pg_catalog.pg_class JOIN pg_catalog.pg_namespace ON pg_catalog.pg_namespace.oid = pg_catalog.pg_class.relnamespace \n",
      "WHERE pg_catalog.pg_class.relname = %(table_name)s AND pg_catalog.pg_class.relkind = ANY (ARRAY[%(param_1)s, %(param_2)s, %(param_3)s, %(param_4)s, %(param_5)s]) AND pg_catalog.pg_table_is_visible(pg_catalog.pg_class.oid) AND pg_catalog.pg_namespace.nspname != %(nspname_1)s\n",
      "2025-07-09 14:26:18,467 INFO sqlalchemy.engine.Engine [cached since 0.01388s ago] {'table_name': 'booking_items', 'param_1': 'r', 'param_2': 'p', 'param_3': 'f', 'param_4': 'v', 'param_5': 'm', 'nspname_1': 'pg_catalog'}\n",
      "2025-07-09 14:26:18,470 INFO sqlalchemy.engine.Engine COMMIT\n"
     ]
    }
   ],
   "source": [
    "metadata=MetaData()\n",
    "\n",
    "# tables\n",
    "clients = Table(\n",
    "    \"clients\", metadata,\n",
    "    Column(\"client_id\", Integer, primary_key=True),\n",
    "    Column(\"first_name\", String(100), nullable=False),\n",
    "    Column(\"last_name\", String(100), nullable=False),\n",
    "    Column(\"email\", String(255), unique=True),\n",
    "    Column(\"phone_number\", String(20))\n",
    ")\n",
    "\n",
    "\n",
    "destinations = Table(\n",
    "    \"destinations\", metadata,\n",
    "    Column(\"destination_id\", Integer, primary_key=True),\n",
    "    Column(\"name\", String(150), nullable=False),\n",
    "    Column(\"country\", String(100)),\n",
    "    Column(\"price_per_person\", Float, nullable=False)\n",
    ")\n",
    "\n",
    "\n",
    "bookings = Table(\n",
    "    \"bookings\", metadata,\n",
    "    Column(\"booking_id\", Integer, primary_key=True),\n",
    "    Column(\"client_id\", Integer, ForeignKey(\"clients.client_id\"), nullable=False),\n",
    "    Column(\"booking_date\", DateTime, default=datetime.utcnow),\n",
    "    Column(\"total_price\", Float)\n",
    ")\n",
    "\n",
    "\n",
    "booking_items = Table(\n",
    "    \"booking_items\", metadata,\n",
    "    Column(\"item_id\", Integer, primary_key=True),\n",
    "    Column(\"booking_id\", Integer, ForeignKey(\"bookings.booking_id\"), nullable=False),\n",
    "    Column(\"destination_id\", Integer, ForeignKey(\"destinations.destination_id\"), nullable=False),\n",
    "    Column(\"travelers_count\", Integer, nullable=False)\n",
    ")\n",
    "\n",
    "# create tables\n",
    "metadata.create_all(engine)"
   ]
  },
  {
   "cell_type": "markdown",
   "id": "112f108b",
   "metadata": {},
   "source": [
    "Insert data"
   ]
  },
  {
   "cell_type": "code",
   "execution_count": 12,
   "id": "d11c667d",
   "metadata": {},
   "outputs": [
    {
     "name": "stdout",
     "output_type": "stream",
     "text": [
      "2025-07-09 14:26:18,489 INFO sqlalchemy.engine.Engine BEGIN (implicit)\n",
      "2025-07-09 14:26:18,491 INFO sqlalchemy.engine.Engine INSERT INTO clients (first_name, last_name, email, phone_number) VALUES (%(first_name__0)s, %(last_name__0)s, %(email__0)s, %(phone_number__0)s), (%(first_name__1)s, %(last_name__1)s, %(email__1)s, %(phone_number__1)s), (%(first_name__2)s, %(last_name__2)s, %(email__2)s, %(phone_number__2)s), (%(first_name__3)s, %(last_name__3)s, %(email__3)s, %(phone_number__3)s), (%(first_name__4)s, %(last_name__4)s, %(email__4)s, %(phone_number__4)s)\n",
      "2025-07-09 14:26:18,493 INFO sqlalchemy.engine.Engine [generated in 0.00013s (insertmanyvalues) 1/1 (unordered)] {'phone_number__0': '0601010101', 'email__0': 'alice@example.com', 'first_name__0': 'Alice', 'last_name__0': 'Smith', 'phone_number__1': '0602020202', 'email__1': 'bob@example.com', 'first_name__1': 'Bob', 'last_name__1': 'Johnson', 'phone_number__2': '0603030303', 'email__2': 'charlie@example.com', 'first_name__2': 'Charlie', 'last_name__2': 'Lee', 'phone_number__3': '0604040404', 'email__3': 'dina@example.com', 'first_name__3': 'Dina', 'last_name__3': 'Mansour', 'phone_number__4': '0605050505', 'email__4': 'elias@example.com', 'first_name__4': 'Elias', 'last_name__4': 'Nouri'}\n",
      "2025-07-09 14:26:18,504 INFO sqlalchemy.engine.Engine ROLLBACK\n"
     ]
    },
    {
     "ename": "IntegrityError",
     "evalue": "(psycopg2.errors.UniqueViolation) duplicate key value violates unique constraint \"clients_email_key\"\nDETAIL:  Key (email)=(alice@example.com) already exists.\n\n[SQL: INSERT INTO clients (first_name, last_name, email, phone_number) VALUES (%(first_name__0)s, %(last_name__0)s, %(email__0)s, %(phone_number__0)s), (%(first_name__1)s, %(last_name__1)s, %(email__1)s, %(phone_number__1)s), (%(first_name__2)s, %(last_name__2)s, %(email__2)s, %(phone_number__2)s), (%(first_name__3)s, %(last_name__3)s, %(email__3)s, %(phone_number__3)s), (%(first_name__4)s, %(last_name__4)s, %(email__4)s, %(phone_number__4)s)]\n[parameters: {'phone_number__0': '0601010101', 'email__0': 'alice@example.com', 'first_name__0': 'Alice', 'last_name__0': 'Smith', 'phone_number__1': '0602020202', 'email__1': 'bob@example.com', 'first_name__1': 'Bob', 'last_name__1': 'Johnson', 'phone_number__2': '0603030303', 'email__2': 'charlie@example.com', 'first_name__2': 'Charlie', 'last_name__2': 'Lee', 'phone_number__3': '0604040404', 'email__3': 'dina@example.com', 'first_name__3': 'Dina', 'last_name__3': 'Mansour', 'phone_number__4': '0605050505', 'email__4': 'elias@example.com', 'first_name__4': 'Elias', 'last_name__4': 'Nouri'}]\n(Background on this error at: https://sqlalche.me/e/20/gkpj)",
     "output_type": "error",
     "traceback": [
      "\u001b[31m---------------------------------------------------------------------------\u001b[39m",
      "\u001b[31mUniqueViolation\u001b[39m                           Traceback (most recent call last)",
      "\u001b[36mFile \u001b[39m\u001b[32mc:\\Users\\wana_\\OneDrive\\Desktop\\simplon project\\python_sql\\myenv\\Lib\\site-packages\\sqlalchemy\\engine\\base.py:2114\u001b[39m, in \u001b[36mConnection._exec_insertmany_context\u001b[39m\u001b[34m(self, dialect, context)\u001b[39m\n\u001b[32m   2113\u001b[39m     \u001b[38;5;28;01melse\u001b[39;00m:\n\u001b[32m-> \u001b[39m\u001b[32m2114\u001b[39m         \u001b[43mdialect\u001b[49m\u001b[43m.\u001b[49m\u001b[43mdo_execute\u001b[49m\u001b[43m(\u001b[49m\n\u001b[32m   2115\u001b[39m \u001b[43m            \u001b[49m\u001b[43mcursor\u001b[49m\u001b[43m,\u001b[49m\n\u001b[32m   2116\u001b[39m \u001b[43m            \u001b[49m\u001b[43msub_stmt\u001b[49m\u001b[43m,\u001b[49m\n\u001b[32m   2117\u001b[39m \u001b[43m            \u001b[49m\u001b[43msub_params\u001b[49m\u001b[43m,\u001b[49m\n\u001b[32m   2118\u001b[39m \u001b[43m            \u001b[49m\u001b[43mcontext\u001b[49m\u001b[43m,\u001b[49m\n\u001b[32m   2119\u001b[39m \u001b[43m        \u001b[49m\u001b[43m)\u001b[49m\n\u001b[32m   2121\u001b[39m \u001b[38;5;28;01mexcept\u001b[39;00m \u001b[38;5;167;01mBaseException\u001b[39;00m \u001b[38;5;28;01mas\u001b[39;00m e:\n",
      "\u001b[36mFile \u001b[39m\u001b[32mc:\\Users\\wana_\\OneDrive\\Desktop\\simplon project\\python_sql\\myenv\\Lib\\site-packages\\sqlalchemy\\engine\\default.py:943\u001b[39m, in \u001b[36mDefaultDialect.do_execute\u001b[39m\u001b[34m(self, cursor, statement, parameters, context)\u001b[39m\n\u001b[32m    942\u001b[39m \u001b[38;5;28;01mdef\u001b[39;00m\u001b[38;5;250m \u001b[39m\u001b[34mdo_execute\u001b[39m(\u001b[38;5;28mself\u001b[39m, cursor, statement, parameters, context=\u001b[38;5;28;01mNone\u001b[39;00m):\n\u001b[32m--> \u001b[39m\u001b[32m943\u001b[39m     \u001b[43mcursor\u001b[49m\u001b[43m.\u001b[49m\u001b[43mexecute\u001b[49m\u001b[43m(\u001b[49m\u001b[43mstatement\u001b[49m\u001b[43m,\u001b[49m\u001b[43m \u001b[49m\u001b[43mparameters\u001b[49m\u001b[43m)\u001b[49m\n",
      "\u001b[31mUniqueViolation\u001b[39m: duplicate key value violates unique constraint \"clients_email_key\"\nDETAIL:  Key (email)=(alice@example.com) already exists.\n",
      "\nThe above exception was the direct cause of the following exception:\n",
      "\u001b[31mIntegrityError\u001b[39m                            Traceback (most recent call last)",
      "\u001b[36mCell\u001b[39m\u001b[36m \u001b[39m\u001b[32mIn[12]\u001b[39m\u001b[32m, line 2\u001b[39m\n\u001b[32m      1\u001b[39m \u001b[38;5;28;01mwith\u001b[39;00m engine.begin() \u001b[38;5;28;01mas\u001b[39;00m conn:\n\u001b[32m----> \u001b[39m\u001b[32m2\u001b[39m     \u001b[43mconn\u001b[49m\u001b[43m.\u001b[49m\u001b[43mexecute\u001b[49m\u001b[43m(\u001b[49m\n\u001b[32m      3\u001b[39m \u001b[43m        \u001b[49m\u001b[43minsert\u001b[49m\u001b[43m(\u001b[49m\u001b[43mclients\u001b[49m\u001b[43m)\u001b[49m\u001b[43m,\u001b[49m\n\u001b[32m      4\u001b[39m \u001b[43m        \u001b[49m\u001b[43m[\u001b[49m\n\u001b[32m      5\u001b[39m \u001b[43m            \u001b[49m\u001b[43m{\u001b[49m\u001b[33;43m\"\u001b[39;49m\u001b[33;43mfirst_name\u001b[39;49m\u001b[33;43m\"\u001b[39;49m\u001b[43m:\u001b[49m\u001b[43m \u001b[49m\u001b[33;43m\"\u001b[39;49m\u001b[33;43mAlice\u001b[39;49m\u001b[33;43m\"\u001b[39;49m\u001b[43m,\u001b[49m\u001b[43m \u001b[49m\u001b[33;43m\"\u001b[39;49m\u001b[33;43mlast_name\u001b[39;49m\u001b[33;43m\"\u001b[39;49m\u001b[43m:\u001b[49m\u001b[43m \u001b[49m\u001b[33;43m\"\u001b[39;49m\u001b[33;43mSmith\u001b[39;49m\u001b[33;43m\"\u001b[39;49m\u001b[43m,\u001b[49m\u001b[43m \u001b[49m\u001b[33;43m\"\u001b[39;49m\u001b[33;43memail\u001b[39;49m\u001b[33;43m\"\u001b[39;49m\u001b[43m:\u001b[49m\u001b[43m \u001b[49m\u001b[33;43m\"\u001b[39;49m\u001b[33;43malice@example.com\u001b[39;49m\u001b[33;43m\"\u001b[39;49m\u001b[43m,\u001b[49m\u001b[43m \u001b[49m\u001b[33;43m\"\u001b[39;49m\u001b[33;43mphone_number\u001b[39;49m\u001b[33;43m\"\u001b[39;49m\u001b[43m:\u001b[49m\u001b[43m \u001b[49m\u001b[33;43m\"\u001b[39;49m\u001b[33;43m0601010101\u001b[39;49m\u001b[33;43m\"\u001b[39;49m\u001b[43m}\u001b[49m\u001b[43m,\u001b[49m\n\u001b[32m      6\u001b[39m \u001b[43m            \u001b[49m\u001b[43m{\u001b[49m\u001b[33;43m\"\u001b[39;49m\u001b[33;43mfirst_name\u001b[39;49m\u001b[33;43m\"\u001b[39;49m\u001b[43m:\u001b[49m\u001b[43m \u001b[49m\u001b[33;43m\"\u001b[39;49m\u001b[33;43mBob\u001b[39;49m\u001b[33;43m\"\u001b[39;49m\u001b[43m,\u001b[49m\u001b[43m \u001b[49m\u001b[33;43m\"\u001b[39;49m\u001b[33;43mlast_name\u001b[39;49m\u001b[33;43m\"\u001b[39;49m\u001b[43m:\u001b[49m\u001b[43m \u001b[49m\u001b[33;43m\"\u001b[39;49m\u001b[33;43mJohnson\u001b[39;49m\u001b[33;43m\"\u001b[39;49m\u001b[43m,\u001b[49m\u001b[43m \u001b[49m\u001b[33;43m\"\u001b[39;49m\u001b[33;43memail\u001b[39;49m\u001b[33;43m\"\u001b[39;49m\u001b[43m:\u001b[49m\u001b[43m \u001b[49m\u001b[33;43m\"\u001b[39;49m\u001b[33;43mbob@example.com\u001b[39;49m\u001b[33;43m\"\u001b[39;49m\u001b[43m,\u001b[49m\u001b[43m \u001b[49m\u001b[33;43m\"\u001b[39;49m\u001b[33;43mphone_number\u001b[39;49m\u001b[33;43m\"\u001b[39;49m\u001b[43m:\u001b[49m\u001b[43m \u001b[49m\u001b[33;43m\"\u001b[39;49m\u001b[33;43m0602020202\u001b[39;49m\u001b[33;43m\"\u001b[39;49m\u001b[43m}\u001b[49m\u001b[43m,\u001b[49m\n\u001b[32m      7\u001b[39m \u001b[43m            \u001b[49m\u001b[43m{\u001b[49m\u001b[33;43m\"\u001b[39;49m\u001b[33;43mfirst_name\u001b[39;49m\u001b[33;43m\"\u001b[39;49m\u001b[43m:\u001b[49m\u001b[43m \u001b[49m\u001b[33;43m\"\u001b[39;49m\u001b[33;43mCharlie\u001b[39;49m\u001b[33;43m\"\u001b[39;49m\u001b[43m,\u001b[49m\u001b[43m \u001b[49m\u001b[33;43m\"\u001b[39;49m\u001b[33;43mlast_name\u001b[39;49m\u001b[33;43m\"\u001b[39;49m\u001b[43m:\u001b[49m\u001b[43m \u001b[49m\u001b[33;43m\"\u001b[39;49m\u001b[33;43mLee\u001b[39;49m\u001b[33;43m\"\u001b[39;49m\u001b[43m,\u001b[49m\u001b[43m \u001b[49m\u001b[33;43m\"\u001b[39;49m\u001b[33;43memail\u001b[39;49m\u001b[33;43m\"\u001b[39;49m\u001b[43m:\u001b[49m\u001b[43m \u001b[49m\u001b[33;43m\"\u001b[39;49m\u001b[33;43mcharlie@example.com\u001b[39;49m\u001b[33;43m\"\u001b[39;49m\u001b[43m,\u001b[49m\u001b[43m \u001b[49m\u001b[33;43m\"\u001b[39;49m\u001b[33;43mphone_number\u001b[39;49m\u001b[33;43m\"\u001b[39;49m\u001b[43m:\u001b[49m\u001b[43m \u001b[49m\u001b[33;43m\"\u001b[39;49m\u001b[33;43m0603030303\u001b[39;49m\u001b[33;43m\"\u001b[39;49m\u001b[43m}\u001b[49m\u001b[43m,\u001b[49m\n\u001b[32m      8\u001b[39m \u001b[43m            \u001b[49m\u001b[43m{\u001b[49m\u001b[33;43m\"\u001b[39;49m\u001b[33;43mfirst_name\u001b[39;49m\u001b[33;43m\"\u001b[39;49m\u001b[43m:\u001b[49m\u001b[43m \u001b[49m\u001b[33;43m\"\u001b[39;49m\u001b[33;43mDina\u001b[39;49m\u001b[33;43m\"\u001b[39;49m\u001b[43m,\u001b[49m\u001b[43m \u001b[49m\u001b[33;43m\"\u001b[39;49m\u001b[33;43mlast_name\u001b[39;49m\u001b[33;43m\"\u001b[39;49m\u001b[43m:\u001b[49m\u001b[43m \u001b[49m\u001b[33;43m\"\u001b[39;49m\u001b[33;43mMansour\u001b[39;49m\u001b[33;43m\"\u001b[39;49m\u001b[43m,\u001b[49m\u001b[43m \u001b[49m\u001b[33;43m\"\u001b[39;49m\u001b[33;43memail\u001b[39;49m\u001b[33;43m\"\u001b[39;49m\u001b[43m:\u001b[49m\u001b[43m \u001b[49m\u001b[33;43m\"\u001b[39;49m\u001b[33;43mdina@example.com\u001b[39;49m\u001b[33;43m\"\u001b[39;49m\u001b[43m,\u001b[49m\u001b[43m \u001b[49m\u001b[33;43m\"\u001b[39;49m\u001b[33;43mphone_number\u001b[39;49m\u001b[33;43m\"\u001b[39;49m\u001b[43m:\u001b[49m\u001b[43m \u001b[49m\u001b[33;43m\"\u001b[39;49m\u001b[33;43m0604040404\u001b[39;49m\u001b[33;43m\"\u001b[39;49m\u001b[43m}\u001b[49m\u001b[43m,\u001b[49m\n\u001b[32m      9\u001b[39m \u001b[43m            \u001b[49m\u001b[43m{\u001b[49m\u001b[33;43m\"\u001b[39;49m\u001b[33;43mfirst_name\u001b[39;49m\u001b[33;43m\"\u001b[39;49m\u001b[43m:\u001b[49m\u001b[43m \u001b[49m\u001b[33;43m\"\u001b[39;49m\u001b[33;43mElias\u001b[39;49m\u001b[33;43m\"\u001b[39;49m\u001b[43m,\u001b[49m\u001b[43m \u001b[49m\u001b[33;43m\"\u001b[39;49m\u001b[33;43mlast_name\u001b[39;49m\u001b[33;43m\"\u001b[39;49m\u001b[43m:\u001b[49m\u001b[43m \u001b[49m\u001b[33;43m\"\u001b[39;49m\u001b[33;43mNouri\u001b[39;49m\u001b[33;43m\"\u001b[39;49m\u001b[43m,\u001b[49m\u001b[43m \u001b[49m\u001b[33;43m\"\u001b[39;49m\u001b[33;43memail\u001b[39;49m\u001b[33;43m\"\u001b[39;49m\u001b[43m:\u001b[49m\u001b[43m \u001b[49m\u001b[33;43m\"\u001b[39;49m\u001b[33;43melias@example.com\u001b[39;49m\u001b[33;43m\"\u001b[39;49m\u001b[43m,\u001b[49m\u001b[43m \u001b[49m\u001b[33;43m\"\u001b[39;49m\u001b[33;43mphone_number\u001b[39;49m\u001b[33;43m\"\u001b[39;49m\u001b[43m:\u001b[49m\u001b[43m \u001b[49m\u001b[33;43m\"\u001b[39;49m\u001b[33;43m0605050505\u001b[39;49m\u001b[33;43m\"\u001b[39;49m\u001b[43m}\u001b[49m\u001b[43m,\u001b[49m\n\u001b[32m     10\u001b[39m \u001b[43m        \u001b[49m\u001b[43m]\u001b[49m\n\u001b[32m     11\u001b[39m \u001b[43m    \u001b[49m\u001b[43m)\u001b[49m\n\u001b[32m     13\u001b[39m     conn.execute(\n\u001b[32m     14\u001b[39m         insert(destinations),\n\u001b[32m     15\u001b[39m         [\n\u001b[32m   (...)\u001b[39m\u001b[32m     21\u001b[39m         ]\n\u001b[32m     22\u001b[39m     )\n\u001b[32m     24\u001b[39m     conn.execute(\n\u001b[32m     25\u001b[39m         insert(bookings),\n\u001b[32m     26\u001b[39m         [\n\u001b[32m   (...)\u001b[39m\u001b[32m     30\u001b[39m         ]\n\u001b[32m     31\u001b[39m     )\n",
      "\u001b[36mFile \u001b[39m\u001b[32mc:\\Users\\wana_\\OneDrive\\Desktop\\simplon project\\python_sql\\myenv\\Lib\\site-packages\\sqlalchemy\\engine\\base.py:1415\u001b[39m, in \u001b[36mConnection.execute\u001b[39m\u001b[34m(self, statement, parameters, execution_options)\u001b[39m\n\u001b[32m   1413\u001b[39m     \u001b[38;5;28;01mraise\u001b[39;00m exc.ObjectNotExecutableError(statement) \u001b[38;5;28;01mfrom\u001b[39;00m\u001b[38;5;250m \u001b[39m\u001b[34;01merr\u001b[39;00m\n\u001b[32m   1414\u001b[39m \u001b[38;5;28;01melse\u001b[39;00m:\n\u001b[32m-> \u001b[39m\u001b[32m1415\u001b[39m     \u001b[38;5;28;01mreturn\u001b[39;00m \u001b[43mmeth\u001b[49m\u001b[43m(\u001b[49m\n\u001b[32m   1416\u001b[39m \u001b[43m        \u001b[49m\u001b[38;5;28;43mself\u001b[39;49m\u001b[43m,\u001b[49m\n\u001b[32m   1417\u001b[39m \u001b[43m        \u001b[49m\u001b[43mdistilled_parameters\u001b[49m\u001b[43m,\u001b[49m\n\u001b[32m   1418\u001b[39m \u001b[43m        \u001b[49m\u001b[43mexecution_options\u001b[49m\u001b[43m \u001b[49m\u001b[38;5;129;43;01mor\u001b[39;49;00m\u001b[43m \u001b[49m\u001b[43mNO_OPTIONS\u001b[49m\u001b[43m,\u001b[49m\n\u001b[32m   1419\u001b[39m \u001b[43m    \u001b[49m\u001b[43m)\u001b[49m\n",
      "\u001b[36mFile \u001b[39m\u001b[32mc:\\Users\\wana_\\OneDrive\\Desktop\\simplon project\\python_sql\\myenv\\Lib\\site-packages\\sqlalchemy\\sql\\elements.py:523\u001b[39m, in \u001b[36mClauseElement._execute_on_connection\u001b[39m\u001b[34m(self, connection, distilled_params, execution_options)\u001b[39m\n\u001b[32m    521\u001b[39m     \u001b[38;5;28;01mif\u001b[39;00m TYPE_CHECKING:\n\u001b[32m    522\u001b[39m         \u001b[38;5;28;01massert\u001b[39;00m \u001b[38;5;28misinstance\u001b[39m(\u001b[38;5;28mself\u001b[39m, Executable)\n\u001b[32m--> \u001b[39m\u001b[32m523\u001b[39m     \u001b[38;5;28;01mreturn\u001b[39;00m \u001b[43mconnection\u001b[49m\u001b[43m.\u001b[49m\u001b[43m_execute_clauseelement\u001b[49m\u001b[43m(\u001b[49m\n\u001b[32m    524\u001b[39m \u001b[43m        \u001b[49m\u001b[38;5;28;43mself\u001b[39;49m\u001b[43m,\u001b[49m\u001b[43m \u001b[49m\u001b[43mdistilled_params\u001b[49m\u001b[43m,\u001b[49m\u001b[43m \u001b[49m\u001b[43mexecution_options\u001b[49m\n\u001b[32m    525\u001b[39m \u001b[43m    \u001b[49m\u001b[43m)\u001b[49m\n\u001b[32m    526\u001b[39m \u001b[38;5;28;01melse\u001b[39;00m:\n\u001b[32m    527\u001b[39m     \u001b[38;5;28;01mraise\u001b[39;00m exc.ObjectNotExecutableError(\u001b[38;5;28mself\u001b[39m)\n",
      "\u001b[36mFile \u001b[39m\u001b[32mc:\\Users\\wana_\\OneDrive\\Desktop\\simplon project\\python_sql\\myenv\\Lib\\site-packages\\sqlalchemy\\engine\\base.py:1637\u001b[39m, in \u001b[36mConnection._execute_clauseelement\u001b[39m\u001b[34m(self, elem, distilled_parameters, execution_options)\u001b[39m\n\u001b[32m   1625\u001b[39m compiled_cache: Optional[CompiledCacheType] = execution_options.get(\n\u001b[32m   1626\u001b[39m     \u001b[33m\"\u001b[39m\u001b[33mcompiled_cache\u001b[39m\u001b[33m\"\u001b[39m, \u001b[38;5;28mself\u001b[39m.engine._compiled_cache\n\u001b[32m   1627\u001b[39m )\n\u001b[32m   1629\u001b[39m compiled_sql, extracted_params, cache_hit = elem._compile_w_cache(\n\u001b[32m   1630\u001b[39m     dialect=dialect,\n\u001b[32m   1631\u001b[39m     compiled_cache=compiled_cache,\n\u001b[32m   (...)\u001b[39m\u001b[32m   1635\u001b[39m     linting=\u001b[38;5;28mself\u001b[39m.dialect.compiler_linting | compiler.WARN_LINTING,\n\u001b[32m   1636\u001b[39m )\n\u001b[32m-> \u001b[39m\u001b[32m1637\u001b[39m ret = \u001b[38;5;28;43mself\u001b[39;49m\u001b[43m.\u001b[49m\u001b[43m_execute_context\u001b[49m\u001b[43m(\u001b[49m\n\u001b[32m   1638\u001b[39m \u001b[43m    \u001b[49m\u001b[43mdialect\u001b[49m\u001b[43m,\u001b[49m\n\u001b[32m   1639\u001b[39m \u001b[43m    \u001b[49m\u001b[43mdialect\u001b[49m\u001b[43m.\u001b[49m\u001b[43mexecution_ctx_cls\u001b[49m\u001b[43m.\u001b[49m\u001b[43m_init_compiled\u001b[49m\u001b[43m,\u001b[49m\n\u001b[32m   1640\u001b[39m \u001b[43m    \u001b[49m\u001b[43mcompiled_sql\u001b[49m\u001b[43m,\u001b[49m\n\u001b[32m   1641\u001b[39m \u001b[43m    \u001b[49m\u001b[43mdistilled_parameters\u001b[49m\u001b[43m,\u001b[49m\n\u001b[32m   1642\u001b[39m \u001b[43m    \u001b[49m\u001b[43mexecution_options\u001b[49m\u001b[43m,\u001b[49m\n\u001b[32m   1643\u001b[39m \u001b[43m    \u001b[49m\u001b[43mcompiled_sql\u001b[49m\u001b[43m,\u001b[49m\n\u001b[32m   1644\u001b[39m \u001b[43m    \u001b[49m\u001b[43mdistilled_parameters\u001b[49m\u001b[43m,\u001b[49m\n\u001b[32m   1645\u001b[39m \u001b[43m    \u001b[49m\u001b[43melem\u001b[49m\u001b[43m,\u001b[49m\n\u001b[32m   1646\u001b[39m \u001b[43m    \u001b[49m\u001b[43mextracted_params\u001b[49m\u001b[43m,\u001b[49m\n\u001b[32m   1647\u001b[39m \u001b[43m    \u001b[49m\u001b[43mcache_hit\u001b[49m\u001b[43m=\u001b[49m\u001b[43mcache_hit\u001b[49m\u001b[43m,\u001b[49m\n\u001b[32m   1648\u001b[39m \u001b[43m\u001b[49m\u001b[43m)\u001b[49m\n\u001b[32m   1649\u001b[39m \u001b[38;5;28;01mif\u001b[39;00m has_events:\n\u001b[32m   1650\u001b[39m     \u001b[38;5;28mself\u001b[39m.dispatch.after_execute(\n\u001b[32m   1651\u001b[39m         \u001b[38;5;28mself\u001b[39m,\n\u001b[32m   1652\u001b[39m         elem,\n\u001b[32m   (...)\u001b[39m\u001b[32m   1656\u001b[39m         ret,\n\u001b[32m   1657\u001b[39m     )\n",
      "\u001b[36mFile \u001b[39m\u001b[32mc:\\Users\\wana_\\OneDrive\\Desktop\\simplon project\\python_sql\\myenv\\Lib\\site-packages\\sqlalchemy\\engine\\base.py:1840\u001b[39m, in \u001b[36mConnection._execute_context\u001b[39m\u001b[34m(self, dialect, constructor, statement, parameters, execution_options, *args, **kw)\u001b[39m\n\u001b[32m   1837\u001b[39m context.pre_exec()\n\u001b[32m   1839\u001b[39m \u001b[38;5;28;01mif\u001b[39;00m context.execute_style \u001b[38;5;129;01mis\u001b[39;00m ExecuteStyle.INSERTMANYVALUES:\n\u001b[32m-> \u001b[39m\u001b[32m1840\u001b[39m     \u001b[38;5;28;01mreturn\u001b[39;00m \u001b[38;5;28;43mself\u001b[39;49m\u001b[43m.\u001b[49m\u001b[43m_exec_insertmany_context\u001b[49m\u001b[43m(\u001b[49m\u001b[43mdialect\u001b[49m\u001b[43m,\u001b[49m\u001b[43m \u001b[49m\u001b[43mcontext\u001b[49m\u001b[43m)\u001b[49m\n\u001b[32m   1841\u001b[39m \u001b[38;5;28;01melse\u001b[39;00m:\n\u001b[32m   1842\u001b[39m     \u001b[38;5;28;01mreturn\u001b[39;00m \u001b[38;5;28mself\u001b[39m._exec_single_context(\n\u001b[32m   1843\u001b[39m         dialect, context, statement, parameters\n\u001b[32m   1844\u001b[39m     )\n",
      "\u001b[36mFile \u001b[39m\u001b[32mc:\\Users\\wana_\\OneDrive\\Desktop\\simplon project\\python_sql\\myenv\\Lib\\site-packages\\sqlalchemy\\engine\\base.py:2122\u001b[39m, in \u001b[36mConnection._exec_insertmany_context\u001b[39m\u001b[34m(self, dialect, context)\u001b[39m\n\u001b[32m   2114\u001b[39m         dialect.do_execute(\n\u001b[32m   2115\u001b[39m             cursor,\n\u001b[32m   2116\u001b[39m             sub_stmt,\n\u001b[32m   2117\u001b[39m             sub_params,\n\u001b[32m   2118\u001b[39m             context,\n\u001b[32m   2119\u001b[39m         )\n\u001b[32m   2121\u001b[39m \u001b[38;5;28;01mexcept\u001b[39;00m \u001b[38;5;167;01mBaseException\u001b[39;00m \u001b[38;5;28;01mas\u001b[39;00m e:\n\u001b[32m-> \u001b[39m\u001b[32m2122\u001b[39m     \u001b[38;5;28;43mself\u001b[39;49m\u001b[43m.\u001b[49m\u001b[43m_handle_dbapi_exception\u001b[49m\u001b[43m(\u001b[49m\n\u001b[32m   2123\u001b[39m \u001b[43m        \u001b[49m\u001b[43me\u001b[49m\u001b[43m,\u001b[49m\n\u001b[32m   2124\u001b[39m \u001b[43m        \u001b[49m\u001b[43msql_util\u001b[49m\u001b[43m.\u001b[49m\u001b[43m_long_statement\u001b[49m\u001b[43m(\u001b[49m\u001b[43msub_stmt\u001b[49m\u001b[43m)\u001b[49m\u001b[43m,\u001b[49m\n\u001b[32m   2125\u001b[39m \u001b[43m        \u001b[49m\u001b[43msub_params\u001b[49m\u001b[43m,\u001b[49m\n\u001b[32m   2126\u001b[39m \u001b[43m        \u001b[49m\u001b[43mcursor\u001b[49m\u001b[43m,\u001b[49m\n\u001b[32m   2127\u001b[39m \u001b[43m        \u001b[49m\u001b[43mcontext\u001b[49m\u001b[43m,\u001b[49m\n\u001b[32m   2128\u001b[39m \u001b[43m        \u001b[49m\u001b[43mis_sub_exec\u001b[49m\u001b[43m=\u001b[49m\u001b[38;5;28;43;01mTrue\u001b[39;49;00m\u001b[43m,\u001b[49m\n\u001b[32m   2129\u001b[39m \u001b[43m    \u001b[49m\u001b[43m)\u001b[49m\n\u001b[32m   2131\u001b[39m \u001b[38;5;28;01mif\u001b[39;00m engine_events:\n\u001b[32m   2132\u001b[39m     \u001b[38;5;28mself\u001b[39m.dispatch.after_cursor_execute(\n\u001b[32m   2133\u001b[39m         \u001b[38;5;28mself\u001b[39m,\n\u001b[32m   2134\u001b[39m         cursor,\n\u001b[32m   (...)\u001b[39m\u001b[32m   2138\u001b[39m         context.executemany,\n\u001b[32m   2139\u001b[39m     )\n",
      "\u001b[36mFile \u001b[39m\u001b[32mc:\\Users\\wana_\\OneDrive\\Desktop\\simplon project\\python_sql\\myenv\\Lib\\site-packages\\sqlalchemy\\engine\\base.py:2351\u001b[39m, in \u001b[36mConnection._handle_dbapi_exception\u001b[39m\u001b[34m(self, e, statement, parameters, cursor, context, is_sub_exec)\u001b[39m\n\u001b[32m   2349\u001b[39m \u001b[38;5;28;01melif\u001b[39;00m should_wrap:\n\u001b[32m   2350\u001b[39m     \u001b[38;5;28;01massert\u001b[39;00m sqlalchemy_exception \u001b[38;5;129;01mis\u001b[39;00m \u001b[38;5;129;01mnot\u001b[39;00m \u001b[38;5;28;01mNone\u001b[39;00m\n\u001b[32m-> \u001b[39m\u001b[32m2351\u001b[39m     \u001b[38;5;28;01mraise\u001b[39;00m sqlalchemy_exception.with_traceback(exc_info[\u001b[32m2\u001b[39m]) \u001b[38;5;28;01mfrom\u001b[39;00m\u001b[38;5;250m \u001b[39m\u001b[34;01me\u001b[39;00m\n\u001b[32m   2352\u001b[39m \u001b[38;5;28;01melse\u001b[39;00m:\n\u001b[32m   2353\u001b[39m     \u001b[38;5;28;01massert\u001b[39;00m exc_info[\u001b[32m1\u001b[39m] \u001b[38;5;129;01mis\u001b[39;00m \u001b[38;5;129;01mnot\u001b[39;00m \u001b[38;5;28;01mNone\u001b[39;00m\n",
      "\u001b[36mFile \u001b[39m\u001b[32mc:\\Users\\wana_\\OneDrive\\Desktop\\simplon project\\python_sql\\myenv\\Lib\\site-packages\\sqlalchemy\\engine\\base.py:2114\u001b[39m, in \u001b[36mConnection._exec_insertmany_context\u001b[39m\u001b[34m(self, dialect, context)\u001b[39m\n\u001b[32m   2112\u001b[39m             \u001b[38;5;28;01mbreak\u001b[39;00m\n\u001b[32m   2113\u001b[39m     \u001b[38;5;28;01melse\u001b[39;00m:\n\u001b[32m-> \u001b[39m\u001b[32m2114\u001b[39m         \u001b[43mdialect\u001b[49m\u001b[43m.\u001b[49m\u001b[43mdo_execute\u001b[49m\u001b[43m(\u001b[49m\n\u001b[32m   2115\u001b[39m \u001b[43m            \u001b[49m\u001b[43mcursor\u001b[49m\u001b[43m,\u001b[49m\n\u001b[32m   2116\u001b[39m \u001b[43m            \u001b[49m\u001b[43msub_stmt\u001b[49m\u001b[43m,\u001b[49m\n\u001b[32m   2117\u001b[39m \u001b[43m            \u001b[49m\u001b[43msub_params\u001b[49m\u001b[43m,\u001b[49m\n\u001b[32m   2118\u001b[39m \u001b[43m            \u001b[49m\u001b[43mcontext\u001b[49m\u001b[43m,\u001b[49m\n\u001b[32m   2119\u001b[39m \u001b[43m        \u001b[49m\u001b[43m)\u001b[49m\n\u001b[32m   2121\u001b[39m \u001b[38;5;28;01mexcept\u001b[39;00m \u001b[38;5;167;01mBaseException\u001b[39;00m \u001b[38;5;28;01mas\u001b[39;00m e:\n\u001b[32m   2122\u001b[39m     \u001b[38;5;28mself\u001b[39m._handle_dbapi_exception(\n\u001b[32m   2123\u001b[39m         e,\n\u001b[32m   2124\u001b[39m         sql_util._long_statement(sub_stmt),\n\u001b[32m   (...)\u001b[39m\u001b[32m   2128\u001b[39m         is_sub_exec=\u001b[38;5;28;01mTrue\u001b[39;00m,\n\u001b[32m   2129\u001b[39m     )\n",
      "\u001b[36mFile \u001b[39m\u001b[32mc:\\Users\\wana_\\OneDrive\\Desktop\\simplon project\\python_sql\\myenv\\Lib\\site-packages\\sqlalchemy\\engine\\default.py:943\u001b[39m, in \u001b[36mDefaultDialect.do_execute\u001b[39m\u001b[34m(self, cursor, statement, parameters, context)\u001b[39m\n\u001b[32m    942\u001b[39m \u001b[38;5;28;01mdef\u001b[39;00m\u001b[38;5;250m \u001b[39m\u001b[34mdo_execute\u001b[39m(\u001b[38;5;28mself\u001b[39m, cursor, statement, parameters, context=\u001b[38;5;28;01mNone\u001b[39;00m):\n\u001b[32m--> \u001b[39m\u001b[32m943\u001b[39m     \u001b[43mcursor\u001b[49m\u001b[43m.\u001b[49m\u001b[43mexecute\u001b[49m\u001b[43m(\u001b[49m\u001b[43mstatement\u001b[49m\u001b[43m,\u001b[49m\u001b[43m \u001b[49m\u001b[43mparameters\u001b[49m\u001b[43m)\u001b[49m\n",
      "\u001b[31mIntegrityError\u001b[39m: (psycopg2.errors.UniqueViolation) duplicate key value violates unique constraint \"clients_email_key\"\nDETAIL:  Key (email)=(alice@example.com) already exists.\n\n[SQL: INSERT INTO clients (first_name, last_name, email, phone_number) VALUES (%(first_name__0)s, %(last_name__0)s, %(email__0)s, %(phone_number__0)s), (%(first_name__1)s, %(last_name__1)s, %(email__1)s, %(phone_number__1)s), (%(first_name__2)s, %(last_name__2)s, %(email__2)s, %(phone_number__2)s), (%(first_name__3)s, %(last_name__3)s, %(email__3)s, %(phone_number__3)s), (%(first_name__4)s, %(last_name__4)s, %(email__4)s, %(phone_number__4)s)]\n[parameters: {'phone_number__0': '0601010101', 'email__0': 'alice@example.com', 'first_name__0': 'Alice', 'last_name__0': 'Smith', 'phone_number__1': '0602020202', 'email__1': 'bob@example.com', 'first_name__1': 'Bob', 'last_name__1': 'Johnson', 'phone_number__2': '0603030303', 'email__2': 'charlie@example.com', 'first_name__2': 'Charlie', 'last_name__2': 'Lee', 'phone_number__3': '0604040404', 'email__3': 'dina@example.com', 'first_name__3': 'Dina', 'last_name__3': 'Mansour', 'phone_number__4': '0605050505', 'email__4': 'elias@example.com', 'first_name__4': 'Elias', 'last_name__4': 'Nouri'}]\n(Background on this error at: https://sqlalche.me/e/20/gkpj)"
     ]
    }
   ],
   "source": [
    "with engine.begin() as conn:\n",
    "    conn.execute(\n",
    "        insert(clients),\n",
    "        [\n",
    "            {\"first_name\": \"Alice\", \"last_name\": \"Smith\", \"email\": \"alice@example.com\", \"phone_number\": \"0601010101\"},\n",
    "            {\"first_name\": \"Bob\", \"last_name\": \"Johnson\", \"email\": \"bob@example.com\", \"phone_number\": \"0602020202\"},\n",
    "            {\"first_name\": \"Charlie\", \"last_name\": \"Lee\", \"email\": \"charlie@example.com\", \"phone_number\": \"0603030303\"},\n",
    "            {\"first_name\": \"Dina\", \"last_name\": \"Mansour\", \"email\": \"dina@example.com\", \"phone_number\": \"0604040404\"},\n",
    "            {\"first_name\": \"Elias\", \"last_name\": \"Nouri\", \"email\": \"elias@example.com\", \"phone_number\": \"0605050505\"},\n",
    "        ]\n",
    "    )\n",
    "\n",
    "    conn.execute(\n",
    "        insert(destinations),\n",
    "        [\n",
    "            {\"name\": \"Paris\", \"country\": \"France\", \"price_per_person\": 250.0},\n",
    "            {\"name\": \"Tokyo\", \"country\": \"Japan\", \"price_per_person\": 800.0},\n",
    "            {\"name\": \"Marrakech\", \"country\": \"Morocco\", \"price_per_person\": 150.0},\n",
    "            {\"name\": \"New York\", \"country\": \"USA\", \"price_per_person\": 600.0},\n",
    "            {\"name\": \"Barcelona\", \"country\": \"Spain\", \"price_per_person\": 300.0},\n",
    "        ]\n",
    "    )\n",
    "\n",
    "    conn.execute(\n",
    "        insert(bookings),\n",
    "        [\n",
    "            {\"client_id\": 1, \"booking_date\": datetime(2025, 7, 1), \"total_price\": 500.0},\n",
    "            {\"client_id\": 2, \"booking_date\": datetime(2025, 7, 2), \"total_price\": 800.0},\n",
    "            {\"client_id\": 3, \"booking_date\": datetime(2025, 7, 3), \"total_price\": 600.0},\n",
    "        ]\n",
    "    )\n",
    "\n",
    "    conn.execute(\n",
    "        insert(booking_items),\n",
    "        [\n",
    "            {\"booking_id\": 1, \"destination_id\": 1, \"travelers_count\": 2},  # Paris\n",
    "            {\"booking_id\": 1, \"destination_id\": 3, \"travelers_count\": 1},  # Marrakech\n",
    "            {\"booking_id\": 2, \"destination_id\": 2, \"travelers_count\": 1},  # Tokyo\n",
    "            {\"booking_id\": 3, \"destination_id\": 4, \"travelers_count\": 2},  # New York\n",
    "            {\"booking_id\": 3, \"destination_id\": 5, \"travelers_count\": 1},  # Barcelona\n",
    "        ]\n",
    "    )\n"
   ]
  },
  {
   "cell_type": "markdown",
   "id": "2b0be752",
   "metadata": {},
   "source": [
    "Afficher tous les clients (first_name, email, phone_number).\n",
    "Afficher les destinations dont le prix est supérieur à 1000 €."
   ]
  },
  {
   "cell_type": "code",
   "execution_count": 23,
   "id": "136ed2da",
   "metadata": {},
   "outputs": [
    {
     "name": "stdout",
     "output_type": "stream",
     "text": [
      "2025-07-09 14:41:18,468 INFO sqlalchemy.engine.Engine BEGIN (implicit)\n",
      "2025-07-09 14:41:18,469 INFO sqlalchemy.engine.Engine SELECT clients.client_id, clients.first_name, clients.last_name, clients.email, clients.phone_number \n",
      "FROM clients\n",
      "2025-07-09 14:41:18,471 INFO sqlalchemy.engine.Engine [cached since 773.6s ago] {}\n",
      "2025-07-09 14:41:18,474 INFO sqlalchemy.engine.Engine SELECT destinations.destination_id, destinations.name, destinations.country, destinations.price_per_person \n",
      "FROM destinations \n",
      "WHERE destinations.price_per_person > %(price_per_person_1)s\n",
      "2025-07-09 14:41:18,476 INFO sqlalchemy.engine.Engine [cached since 11.97s ago] {'price_per_person_1': 400}\n",
      "Alice - alice@example.com - 0601010101\n",
      "Bob - bob@example.com - 0602020202\n",
      "Charlie - charlie@example.com - 0603030303\n",
      "Dina - dina@example.com - 0604040404\n",
      "Elias - elias@example.com - 0605050505\n",
      "(2, 'Tokyo', 'Japan', 800.0)\n",
      "(4, 'New York', 'USA', 600.0)\n",
      "2025-07-09 14:41:18,478 INFO sqlalchemy.engine.Engine ROLLBACK\n"
     ]
    }
   ],
   "source": [
    "clients = Table(\"clients\", metadata, autoload_with=engine)\n",
    "distinations = Table(\"destinations\",metadata,autoload_with=engine)\n",
    "with engine.connect() as conn:\n",
    "    client=conn.execute(select(clients))\n",
    "    distination = conn.execute(select(distinations).where(distinations.c.price_per_person>400))\n",
    "    for row in client:\n",
    "        print(f\"{row.first_name} - {row.email} - {row.phone_number}\")\n",
    "    for row2 in distination:\n",
    "        print(row2)"
   ]
  },
  {
   "cell_type": "markdown",
   "id": "7ebbb629",
   "metadata": {},
   "source": [
    "Récupérer des informations combinées entre plusieurs tables."
   ]
  },
  {
   "cell_type": "code",
   "execution_count": null,
   "id": "d1e99116",
   "metadata": {},
   "outputs": [],
   "source": []
  }
 ],
 "metadata": {
  "kernelspec": {
   "display_name": "myenv",
   "language": "python",
   "name": "python3"
  },
  "language_info": {
   "codemirror_mode": {
    "name": "ipython",
    "version": 3
   },
   "file_extension": ".py",
   "mimetype": "text/x-python",
   "name": "python",
   "nbconvert_exporter": "python",
   "pygments_lexer": "ipython3",
   "version": "3.12.10"
  }
 },
 "nbformat": 4,
 "nbformat_minor": 5
}
